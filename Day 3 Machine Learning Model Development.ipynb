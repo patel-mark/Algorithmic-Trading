{
 "cells": [
  {
   "cell_type": "markdown",
   "id": "d9d730a2-c55b-4b30-bca0-e11bd68c563a",
   "metadata": {},
   "source": [
    "## Import Libraries"
   ]
  },
  {
   "cell_type": "code",
   "execution_count": 2,
   "id": "19e7f739-e28c-4fed-bae3-4492afbbae1c",
   "metadata": {},
   "outputs": [],
   "source": [
    "import pandas as pd\n",
    "import numpy as np\n",
    "from sklearn.model_selection import train_test_split, KFold, GridSearchCV\n",
    "from sklearn.metrics import accuracy_score, classification_report, confusion_matrix\n",
    "import xgboost as xgb\n",
    "import matplotlib.pyplot as plt\n",
    "import seaborn as sns\n",
    "\n",
    "# Set Seaborn style for plots\n",
    "sns.set_theme(style=\"whitegrid\", rc={\"axes.facecolor\": \"#f0f0f0\"})"
   ]
  },
  {
   "cell_type": "markdown",
   "id": "2bae8fb4-9d0e-41d3-b1ce-ab1c0eddb8db",
   "metadata": {},
   "source": [
    "## Load Preprocessed Data"
   ]
  },
  {
   "cell_type": "code",
   "execution_count": 3,
   "id": "77607cbc-f57e-4a26-b5ba-14b82cce9733",
   "metadata": {},
   "outputs": [
    {
     "name": "stdout",
     "output_type": "stream",
     "text": [
      "Engineered Data:\n"
     ]
    },
    {
     "data": {
      "text/html": [
       "<div>\n",
       "<style scoped>\n",
       "    .dataframe tbody tr th:only-of-type {\n",
       "        vertical-align: middle;\n",
       "    }\n",
       "\n",
       "    .dataframe tbody tr th {\n",
       "        vertical-align: top;\n",
       "    }\n",
       "\n",
       "    .dataframe thead th {\n",
       "        text-align: right;\n",
       "    }\n",
       "</style>\n",
       "<table border=\"1\" class=\"dataframe\">\n",
       "  <thead>\n",
       "    <tr style=\"text-align: right;\">\n",
       "      <th></th>\n",
       "      <th>Open</th>\n",
       "      <th>High</th>\n",
       "      <th>Low</th>\n",
       "      <th>Close</th>\n",
       "      <th>Volume</th>\n",
       "      <th>RSI_14</th>\n",
       "      <th>MACD</th>\n",
       "      <th>MACD_Signal</th>\n",
       "      <th>ATR_14</th>\n",
       "      <th>Bollinger_Upper</th>\n",
       "      <th>Bollinger_Middle</th>\n",
       "      <th>Bollinger_Lower</th>\n",
       "      <th>('VIXCLS', '^VIX')</th>\n",
       "    </tr>\n",
       "    <tr>\n",
       "      <th>Date</th>\n",
       "      <th></th>\n",
       "      <th></th>\n",
       "      <th></th>\n",
       "      <th></th>\n",
       "      <th></th>\n",
       "      <th></th>\n",
       "      <th></th>\n",
       "      <th></th>\n",
       "      <th></th>\n",
       "      <th></th>\n",
       "      <th></th>\n",
       "      <th></th>\n",
       "      <th></th>\n",
       "    </tr>\n",
       "  </thead>\n",
       "  <tbody>\n",
       "    <tr>\n",
       "      <th>2010-02-22</th>\n",
       "      <td>11.490917</td>\n",
       "      <td>11.495176</td>\n",
       "      <td>11.320555</td>\n",
       "      <td>11.397218</td>\n",
       "      <td>21475000</td>\n",
       "      <td>52.893929</td>\n",
       "      <td>-0.126873</td>\n",
       "      <td>-0.317405</td>\n",
       "      <td>0.280416</td>\n",
       "      <td>11.564284</td>\n",
       "      <td>10.977275</td>\n",
       "      <td>10.390265</td>\n",
       "      <td>19.940001</td>\n",
       "    </tr>\n",
       "    <tr>\n",
       "      <th>2010-02-23</th>\n",
       "      <td>11.329072</td>\n",
       "      <td>11.367403</td>\n",
       "      <td>11.043715</td>\n",
       "      <td>11.120378</td>\n",
       "      <td>35881600</td>\n",
       "      <td>45.749613</td>\n",
       "      <td>-0.121403</td>\n",
       "      <td>-0.278205</td>\n",
       "      <td>0.285636</td>\n",
       "      <td>11.567805</td>\n",
       "      <td>10.979191</td>\n",
       "      <td>10.390577</td>\n",
       "      <td>21.370001</td>\n",
       "    </tr>\n",
       "    <tr>\n",
       "      <th>2010-02-24</th>\n",
       "      <td>11.184264</td>\n",
       "      <td>11.414253</td>\n",
       "      <td>11.150192</td>\n",
       "      <td>11.316295</td>\n",
       "      <td>30822400</td>\n",
       "      <td>50.812908</td>\n",
       "      <td>-0.100105</td>\n",
       "      <td>-0.242585</td>\n",
       "      <td>0.286225</td>\n",
       "      <td>11.602302</td>\n",
       "      <td>10.995588</td>\n",
       "      <td>10.388875</td>\n",
       "      <td>20.270000</td>\n",
       "    </tr>\n",
       "    <tr>\n",
       "      <th>2010-02-25</th>\n",
       "      <td>11.124639</td>\n",
       "      <td>11.312037</td>\n",
       "      <td>11.039458</td>\n",
       "      <td>11.299260</td>\n",
       "      <td>28511200</td>\n",
       "      <td>50.372688</td>\n",
       "      <td>-0.083637</td>\n",
       "      <td>-0.210795</td>\n",
       "      <td>0.285554</td>\n",
       "      <td>11.621146</td>\n",
       "      <td>11.003255</td>\n",
       "      <td>10.385364</td>\n",
       "      <td>20.100000</td>\n",
       "    </tr>\n",
       "    <tr>\n",
       "      <th>2010-02-26</th>\n",
       "      <td>11.346107</td>\n",
       "      <td>11.346107</td>\n",
       "      <td>11.150191</td>\n",
       "      <td>11.235372</td>\n",
       "      <td>27008800</td>\n",
       "      <td>48.669622</td>\n",
       "      <td>-0.074878</td>\n",
       "      <td>-0.183612</td>\n",
       "      <td>0.279152</td>\n",
       "      <td>11.644142</td>\n",
       "      <td>11.021143</td>\n",
       "      <td>10.398144</td>\n",
       "      <td>19.500000</td>\n",
       "    </tr>\n",
       "  </tbody>\n",
       "</table>\n",
       "</div>"
      ],
      "text/plain": [
       "                 Open       High        Low      Close    Volume     RSI_14  \\\n",
       "Date                                                                          \n",
       "2010-02-22  11.490917  11.495176  11.320555  11.397218  21475000  52.893929   \n",
       "2010-02-23  11.329072  11.367403  11.043715  11.120378  35881600  45.749613   \n",
       "2010-02-24  11.184264  11.414253  11.150192  11.316295  30822400  50.812908   \n",
       "2010-02-25  11.124639  11.312037  11.039458  11.299260  28511200  50.372688   \n",
       "2010-02-26  11.346107  11.346107  11.150191  11.235372  27008800  48.669622   \n",
       "\n",
       "                MACD  MACD_Signal    ATR_14  Bollinger_Upper  \\\n",
       "Date                                                           \n",
       "2010-02-22 -0.126873    -0.317405  0.280416        11.564284   \n",
       "2010-02-23 -0.121403    -0.278205  0.285636        11.567805   \n",
       "2010-02-24 -0.100105    -0.242585  0.286225        11.602302   \n",
       "2010-02-25 -0.083637    -0.210795  0.285554        11.621146   \n",
       "2010-02-26 -0.074878    -0.183612  0.279152        11.644142   \n",
       "\n",
       "            Bollinger_Middle  Bollinger_Lower  ('VIXCLS', '^VIX')  \n",
       "Date                                                               \n",
       "2010-02-22         10.977275        10.390265           19.940001  \n",
       "2010-02-23         10.979191        10.390577           21.370001  \n",
       "2010-02-24         10.995588        10.388875           20.270000  \n",
       "2010-02-25         11.003255        10.385364           20.100000  \n",
       "2010-02-26         11.021143        10.398144           19.500000  "
      ]
     },
     "metadata": {},
     "output_type": "display_data"
    }
   ],
   "source": [
    "# Load engineered data (from Day 2)\n",
    "df = pd.read_csv(\"SMH_Engineered_Data.csv\", parse_dates=[\"Date\"], index_col=\"Date\")\n",
    "\n",
    "# Ensure chronological order\n",
    "df.sort_index(inplace=True)\n",
    "\n",
    "# Display first 5 rows\n",
    "print(\"Engineered Data:\")\n",
    "display(df.head())"
   ]
  },
  {
   "cell_type": "markdown",
   "id": "b905f294-8ef7-451a-9ca8-8c06035380bb",
   "metadata": {},
   "source": [
    "## Create Target Variable"
   ]
  },
  {
   "cell_type": "code",
   "execution_count": 4,
   "id": "dba2998c-fdf2-4a22-854f-9207aef6d4f0",
   "metadata": {},
   "outputs": [
    {
     "name": "stdout",
     "output_type": "stream",
     "text": [
      "\n",
      "Class Distribution:\n",
      "1    0.53372\n",
      "0    0.46628\n",
      "Name: Target, dtype: float64\n"
     ]
    }
   ],
   "source": [
    "# Target = 1 if next day's Close > today's Close, else 0\n",
    "df[\"Target\"] = (df[\"Close\"].shift(-1) > df[\"Close\"]).astype(int)\n",
    "df.dropna(subset=[\"Target\"], inplace=True)  # Drop last row with NaN\n",
    "\n",
    "# Separate features (X) and target (y)\n",
    "X = df.drop(\"Target\", axis=1)\n",
    "y = df[\"Target\"]\n",
    "\n",
    "print(\"\\nClass Distribution:\")\n",
    "print(y.value_counts(normalize=True))"
   ]
  },
  {
   "cell_type": "markdown",
   "id": "e4a3b17d-e070-484d-9988-068492c57daa",
   "metadata": {},
   "source": [
    "## Split Data into Training and Test Sets"
   ]
  },
  {
   "cell_type": "code",
   "execution_count": 5,
   "id": "ca129b6a-95ef-460d-b207-25bf4993e314",
   "metadata": {},
   "outputs": [
    {
     "name": "stdout",
     "output_type": "stream",
     "text": [
      "Training set size: 3036\n",
      "Test set size: 760\n"
     ]
    }
   ],
   "source": [
    "# Time-series split (no shuffling)\n",
    "train_size = int(0.8 * len(X))\n",
    "X_train, X_test = X.iloc[:train_size], X.iloc[train_size:]\n",
    "y_train, y_test = y.iloc[:train_size], y.iloc[train_size:]\n",
    "\n",
    "print(f\"Training set size: {len(X_train)}\")\n",
    "print(f\"Test set size: {len(X_test)}\")"
   ]
  },
  {
   "cell_type": "markdown",
   "id": "db8a24df-9e94-4e76-8218-ccfc62f3869c",
   "metadata": {},
   "source": [
    "## Define XGBoost Model and Hyperparameter Grid"
   ]
  },
  {
   "cell_type": "code",
   "execution_count": 7,
   "id": "eaf2cb11-7216-412c-b8a2-d8fdda1bb7a3",
   "metadata": {},
   "outputs": [],
   "source": [
    "# Initialize XGBoost classifier\n",
    "model = xgb.XGBClassifier(\n",
    "    objective=\"binary:logistic\",\n",
    "    eval_metric=\"logloss\",\n",
    "    random_state=42,\n",
    "    n_jobs=-1\n",
    ")\n",
    "\n",
    "# Hyperparameter grid for tuning\n",
    "param_grid = {\n",
    "    \"max_depth\": [3, 5],            # Tree depth\n",
    "    \"learning_rate\": [0.01, 0.1],    # Step size shrinkage\n",
    "    \"n_estimators\": [100, 200],      # Number of trees\n",
    "    \"subsample\": [0.8, 1.0],         #% of samples per tree\n",
    "    \"colsample_bytree\": [0.8, 1.0]   #% of features per tree\n",
    "}"
   ]
  },
  {
   "cell_type": "markdown",
   "id": "e679129a-4363-4397-b45e-5ef1090e7b5c",
   "metadata": {},
   "source": [
    "## Perform Grid Search with K-Fold Cross-Validation"
   ]
  },
  {
   "cell_type": "code",
   "execution_count": 8,
   "id": "30ecc2ba-39c8-49c1-9869-7b768d792b24",
   "metadata": {},
   "outputs": [
    {
     "name": "stdout",
     "output_type": "stream",
     "text": [
      "Fitting 5 folds for each of 32 candidates, totalling 160 fits\n",
      "\n",
      "Best Parameters: {'colsample_bytree': 0.8, 'learning_rate': 0.01, 'max_depth': 3, 'n_estimators': 100, 'subsample': 0.8}\n"
     ]
    }
   ],
   "source": [
    "# K-Fold cross-validation (5 splits, no shuffling)\n",
    "kfold = KFold(n_splits=5, shuffle=False)\n",
    "\n",
    "# Grid search for best parameters\n",
    "grid_search = GridSearchCV(\n",
    "    estimator=model,\n",
    "    param_grid=param_grid,\n",
    "    scoring=\"accuracy\",\n",
    "    cv=kfold,\n",
    "    verbose=1,\n",
    "    n_jobs=-1\n",
    ")\n",
    "\n",
    "# Fit to training data\n",
    "grid_search.fit(X_train, y_train)\n",
    "\n",
    "# Get best model\n",
    "best_model = grid_search.best_estimator_\n",
    "print(f\"\\nBest Parameters: {grid_search.best_params_}\")"
   ]
  },
  {
   "cell_type": "markdown",
   "id": "ae10836d-05ec-4c48-a459-cc91510b6890",
   "metadata": {},
   "source": [
    "## Evaluate on Test Set"
   ]
  },
  {
   "cell_type": "code",
   "execution_count": 9,
   "id": "bd5f81cb-c813-4d5e-a3d5-1ddd84bf3794",
   "metadata": {},
   "outputs": [
    {
     "name": "stdout",
     "output_type": "stream",
     "text": [
      "\n",
      "Test Set Metrics:\n",
      "Accuracy: 0.4763\n",
      "Classification Report:\n",
      "               precision    recall  f1-score   support\n",
      "\n",
      "           0       0.46      0.56      0.51       365\n",
      "           1       0.50      0.39      0.44       395\n",
      "\n",
      "    accuracy                           0.48       760\n",
      "   macro avg       0.48      0.48      0.47       760\n",
      "weighted avg       0.48      0.48      0.47       760\n",
      "\n"
     ]
    },
    {
     "data": {
      "image/png": "[encoded data removed]",
      "text/plain": [
       "<Figure size 640x480 with 1 Axes>"
      ]
     },
     "metadata": {},
     "output_type": "display_data"
    }
   ],
   "source": [
    "# Predictions\n",
    "y_pred = best_model.predict(X_test)\n",
    "\n",
    "# Metrics\n",
    "print(\"\\nTest Set Metrics:\")\n",
    "print(f\"Accuracy: {accuracy_score(y_test, y_pred):.4f}\")\n",
    "print(\"Classification Report:\\n\", classification_report(y_test, y_pred))\n",
    "\n",
    "# Confusion matrix heatmap\n",
    "cm = confusion_matrix(y_test, y_pred)\n",
    "sns.heatmap(cm, annot=True, fmt=\"d\", cmap=\"Blues\", cbar=False)\n",
    "plt.xlabel(\"Predicted\")\n",
    "plt.ylabel(\"Actual\")\n",
    "plt.title(\"Confusion Matrix\")\n",
    "plt.show()"
   ]
  },
  {
   "cell_type": "markdown",
   "id": "41c6d595-6359-46b0-8f76-6d49f5d6c8f3",
   "metadata": {},
   "source": [
    "## Feature Importance"
   ]
  },
  {
   "cell_type": "code",
   "execution_count": 10,
   "id": "bc362923-86b9-4190-a7d8-233822ed1c10",
   "metadata": {},
   "outputs": [
    {
     "data": {
      "image/png": "[encoded data removed]",
      "text/plain": [
       "<Figure size 640x480 with 1 Axes>"
      ]
     },
     "metadata": {},
     "output_type": "display_data"
    }
   ],
   "source": [
    "# Plot feature importance\n",
    "xgb.plot_importance(best_model, max_num_features=10, height=0.5)\n",
    "plt.title(\"Top 10 Feature Importance\")\n",
    "plt.show()"
   ]
  },
  {
   "cell_type": "code",
   "execution_count": null,
   "id": "d29418af-ca5a-44a5-bffd-c20381921ec0",
   "metadata": {},
   "outputs": [],
   "source": []
  }
 ],
 "metadata": {
  "kernelspec": {
   "display_name": "Python 3 (ipykernel)",
   "language": "python",
   "name": "python3"
  },
  "language_info": {
   "codemirror_mode": {
    "name": "ipython",
    "version": 3
   },
   "file_extension": ".py",
   "mimetype": "text/x-python",
   "name": "python",
   "nbconvert_exporter": "python",
   "pygments_lexer": "ipython3",
   "version": "3.11.9"
  }
 },
 "nbformat": 4,
 "nbformat_minor": 5
}
