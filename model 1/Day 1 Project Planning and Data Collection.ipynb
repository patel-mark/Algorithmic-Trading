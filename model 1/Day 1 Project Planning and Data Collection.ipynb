{
 "cells": [
  {
   "cell_type": "markdown",
   "id": "cfa383a8-f707-4cf6-8916-d49cab9c2c71",
   "metadata": {},
   "source": [
    "## Install Required Libraries"
   ]
  },
  {
   "cell_type": "code",
   "execution_count": 1,
   "id": "1e09a92f-9477-4566-a1c5-cee87c49a793",
   "metadata": {},
   "outputs": [],
   "source": [
    "#!pip install yfinance pandas"
   ]
  },
  {
   "cell_type": "markdown",
   "id": "4ea54117-c378-4560-a7a9-877b31d0a13d",
   "metadata": {},
   "source": [
    "## Import Libraries"
   ]
  },
  {
   "cell_type": "code",
   "execution_count": 2,
   "id": "5829e6a1-cd92-4a0c-93ef-ea970b531d31",
   "metadata": {},
   "outputs": [],
   "source": [
    "import yfinance as yf\n",
    "import pandas as pd\n",
    "import matplotlib.pyplot as plt"
   ]
  },
  {
   "cell_type": "markdown",
   "id": "9e26b9c6-e13f-410d-b0a6-7c21c95554eb",
   "metadata": {},
   "source": [
    "## Define the Strategy"
   ]
  },
  {
   "cell_type": "markdown",
   "id": "839c7119-244e-422a-a168-0a92c1b90baa",
   "metadata": {},
   "source": [
    "Objective: Predict whether QQQ’s price will increase (1) or decrease (0) the next day.\n",
    "Data Range: January 1, 2010, to March 26, 2025."
   ]
  },
  {
   "cell_type": "markdown",
   "id": "94ebdbac-7940-4317-b530-08c710d0635c",
   "metadata": {},
   "source": [
    "## Fetch QQQ Historical Data"
   ]
  },
  {
   "cell_type": "code",
   "execution_count": 3,
   "id": "049714db-53b2-4a66-ac06-fbb10a2dd2e8",
   "metadata": {},
   "outputs": [
    {
     "name": "stdout",
     "output_type": "stream",
     "text": [
      "YF.download() has changed argument auto_adjust default to True\n"
     ]
    },
    {
     "data": {
      "text/html": [
       "<div>\n",
       "<style scoped>\n",
       "    .dataframe tbody tr th:only-of-type {\n",
       "        vertical-align: middle;\n",
       "    }\n",
       "\n",
       "    .dataframe tbody tr th {\n",
       "        vertical-align: top;\n",
       "    }\n",
       "\n",
       "    .dataframe thead tr th {\n",
       "        text-align: left;\n",
       "    }\n",
       "\n",
       "    .dataframe thead tr:last-of-type th {\n",
       "        text-align: right;\n",
       "    }\n",
       "</style>\n",
       "<table border=\"1\" class=\"dataframe\">\n",
       "  <thead>\n",
       "    <tr>\n",
       "      <th>Price</th>\n",
       "      <th>Close</th>\n",
       "      <th>High</th>\n",
       "      <th>Low</th>\n",
       "      <th>Open</th>\n",
       "      <th>Volume</th>\n",
       "    </tr>\n",
       "    <tr>\n",
       "      <th>Ticker</th>\n",
       "      <th>QQQ</th>\n",
       "      <th>QQQ</th>\n",
       "      <th>QQQ</th>\n",
       "      <th>QQQ</th>\n",
       "      <th>QQQ</th>\n",
       "    </tr>\n",
       "    <tr>\n",
       "      <th>Date</th>\n",
       "      <th></th>\n",
       "      <th></th>\n",
       "      <th></th>\n",
       "      <th></th>\n",
       "      <th></th>\n",
       "    </tr>\n",
       "  </thead>\n",
       "  <tbody>\n",
       "    <tr>\n",
       "      <th>2024-01-02</th>\n",
       "      <td>399.615723</td>\n",
       "      <td>403.089865</td>\n",
       "      <td>397.283078</td>\n",
       "      <td>402.841712</td>\n",
       "      <td>58026900</td>\n",
       "    </tr>\n",
       "    <tr>\n",
       "      <th>2024-01-03</th>\n",
       "      <td>395.387177</td>\n",
       "      <td>398.037464</td>\n",
       "      <td>394.950455</td>\n",
       "      <td>396.975362</td>\n",
       "      <td>47002800</td>\n",
       "    </tr>\n",
       "    <tr>\n",
       "      <th>2024-01-04</th>\n",
       "      <td>393.352356</td>\n",
       "      <td>396.637900</td>\n",
       "      <td>393.133980</td>\n",
       "      <td>393.511178</td>\n",
       "      <td>39432800</td>\n",
       "    </tr>\n",
       "    <tr>\n",
       "      <th>2024-01-05</th>\n",
       "      <td>393.818909</td>\n",
       "      <td>396.608147</td>\n",
       "      <td>392.419322</td>\n",
       "      <td>393.521137</td>\n",
       "      <td>44867900</td>\n",
       "    </tr>\n",
       "    <tr>\n",
       "      <th>2024-01-08</th>\n",
       "      <td>401.958344</td>\n",
       "      <td>402.246179</td>\n",
       "      <td>394.900855</td>\n",
       "      <td>395.049740</td>\n",
       "      <td>42473800</td>\n",
       "    </tr>\n",
       "  </tbody>\n",
       "</table>\n",
       "</div>"
      ],
      "text/plain": [
       "Price            Close        High         Low        Open    Volume\n",
       "Ticker             QQQ         QQQ         QQQ         QQQ       QQQ\n",
       "Date                                                                \n",
       "2024-01-02  399.615723  403.089865  397.283078  402.841712  58026900\n",
       "2024-01-03  395.387177  398.037464  394.950455  396.975362  47002800\n",
       "2024-01-04  393.352356  396.637900  393.133980  393.511178  39432800\n",
       "2024-01-05  393.818909  396.608147  392.419322  393.521137  44867900\n",
       "2024-01-08  401.958344  402.246179  394.900855  395.049740  42473800"
      ]
     },
     "execution_count": 3,
     "metadata": {},
     "output_type": "execute_result"
    }
   ],
   "source": [
    "# Define QQQ ticker and date range\n",
    "ticker = \"QQQ\"\n",
    "start_date = \"2024-01-01\"\n",
    "end_date = \"2025-03-26\"\n",
    "\n",
    "# Fetch historical data\n",
    "QQQ_data = yf.download(\n",
    "    ticker,\n",
    "    start=start_date,\n",
    "    end=end_date,\n",
    "    progress=False  # Disable progress bar for cleaner output\n",
    ")\n",
    "\n",
    "# Save raw data to CSV (for reference)\n",
    "QQQ_data.to_csv(\"QQQ_Raw_Data.csv\")\n",
    "\n",
    "# Display first 5 rows\n",
    "QQQ_data.head()"
   ]
  },
  {
   "cell_type": "code",
   "execution_count": 4,
   "id": "fc822905-220a-4fc6-9129-a63458c2f030",
   "metadata": {},
   "outputs": [
    {
     "name": "stdout",
     "output_type": "stream",
     "text": [
      "Raw Data:\n"
     ]
    },
    {
     "data": {
      "text/html": [
       "<div>\n",
       "<style scoped>\n",
       "    .dataframe tbody tr th:only-of-type {\n",
       "        vertical-align: middle;\n",
       "    }\n",
       "\n",
       "    .dataframe tbody tr th {\n",
       "        vertical-align: top;\n",
       "    }\n",
       "\n",
       "    .dataframe thead th {\n",
       "        text-align: right;\n",
       "    }\n",
       "</style>\n",
       "<table border=\"1\" class=\"dataframe\">\n",
       "  <thead>\n",
       "    <tr style=\"text-align: right;\">\n",
       "      <th></th>\n",
       "      <th>Date</th>\n",
       "      <th>Unnamed: 1</th>\n",
       "      <th>Unnamed: 2</th>\n",
       "      <th>Unnamed: 3</th>\n",
       "      <th>Unnamed: 4</th>\n",
       "      <th>Unnamed: 5</th>\n",
       "    </tr>\n",
       "  </thead>\n",
       "  <tbody>\n",
       "    <tr>\n",
       "      <th>0</th>\n",
       "      <td>2024-01-02</td>\n",
       "      <td>399.615723</td>\n",
       "      <td>403.089865</td>\n",
       "      <td>397.283078</td>\n",
       "      <td>402.841712</td>\n",
       "      <td>58026900</td>\n",
       "    </tr>\n",
       "    <tr>\n",
       "      <th>1</th>\n",
       "      <td>2024-01-03</td>\n",
       "      <td>395.387177</td>\n",
       "      <td>398.037464</td>\n",
       "      <td>394.950455</td>\n",
       "      <td>396.975362</td>\n",
       "      <td>47002800</td>\n",
       "    </tr>\n",
       "    <tr>\n",
       "      <th>2</th>\n",
       "      <td>2024-01-04</td>\n",
       "      <td>393.352356</td>\n",
       "      <td>396.637900</td>\n",
       "      <td>393.133980</td>\n",
       "      <td>393.511178</td>\n",
       "      <td>39432800</td>\n",
       "    </tr>\n",
       "    <tr>\n",
       "      <th>3</th>\n",
       "      <td>2024-01-05</td>\n",
       "      <td>393.818909</td>\n",
       "      <td>396.608147</td>\n",
       "      <td>392.419322</td>\n",
       "      <td>393.521137</td>\n",
       "      <td>44867900</td>\n",
       "    </tr>\n",
       "    <tr>\n",
       "      <th>4</th>\n",
       "      <td>2024-01-08</td>\n",
       "      <td>401.958344</td>\n",
       "      <td>402.246179</td>\n",
       "      <td>394.900855</td>\n",
       "      <td>395.049740</td>\n",
       "      <td>42473800</td>\n",
       "    </tr>\n",
       "  </tbody>\n",
       "</table>\n",
       "</div>"
      ],
      "text/plain": [
       "         Date  Unnamed: 1  Unnamed: 2  Unnamed: 3  Unnamed: 4  Unnamed: 5\n",
       "0  2024-01-02  399.615723  403.089865  397.283078  402.841712    58026900\n",
       "1  2024-01-03  395.387177  398.037464  394.950455  396.975362    47002800\n",
       "2  2024-01-04  393.352356  396.637900  393.133980  393.511178    39432800\n",
       "3  2024-01-05  393.818909  396.608147  392.419322  393.521137    44867900\n",
       "4  2024-01-08  401.958344  402.246179  394.900855  395.049740    42473800"
      ]
     },
     "metadata": {},
     "output_type": "display_data"
    }
   ],
   "source": [
    "# Load data, skip initial rows if headers are misaligned\n",
    "df = pd.read_csv(\"QQQ_Raw_Data.csv\", skiprows=2)\n",
    "\n",
    "# Display raw data\n",
    "print(\"Raw Data:\")\n",
    "display(df.head())"
   ]
  },
  {
   "cell_type": "code",
   "execution_count": 5,
   "id": "74149e2b-a9ce-485e-82d4-849c9ceae4f3",
   "metadata": {},
   "outputs": [
    {
     "name": "stdout",
     "output_type": "stream",
     "text": [
      "\n",
      "Cleaned Data:\n"
     ]
    },
    {
     "data": {
      "text/html": [
       "<div>\n",
       "<style scoped>\n",
       "    .dataframe tbody tr th:only-of-type {\n",
       "        vertical-align: middle;\n",
       "    }\n",
       "\n",
       "    .dataframe tbody tr th {\n",
       "        vertical-align: top;\n",
       "    }\n",
       "\n",
       "    .dataframe thead th {\n",
       "        text-align: right;\n",
       "    }\n",
       "</style>\n",
       "<table border=\"1\" class=\"dataframe\">\n",
       "  <thead>\n",
       "    <tr style=\"text-align: right;\">\n",
       "      <th></th>\n",
       "      <th>Date</th>\n",
       "      <th>Open</th>\n",
       "      <th>High</th>\n",
       "      <th>Low</th>\n",
       "      <th>Close</th>\n",
       "      <th>Volume</th>\n",
       "    </tr>\n",
       "  </thead>\n",
       "  <tbody>\n",
       "    <tr>\n",
       "      <th>0</th>\n",
       "      <td>2024-01-02</td>\n",
       "      <td>402.841712</td>\n",
       "      <td>403.089865</td>\n",
       "      <td>397.283078</td>\n",
       "      <td>399.615723</td>\n",
       "      <td>58026900</td>\n",
       "    </tr>\n",
       "    <tr>\n",
       "      <th>1</th>\n",
       "      <td>2024-01-03</td>\n",
       "      <td>396.975362</td>\n",
       "      <td>398.037464</td>\n",
       "      <td>394.950455</td>\n",
       "      <td>395.387177</td>\n",
       "      <td>47002800</td>\n",
       "    </tr>\n",
       "    <tr>\n",
       "      <th>2</th>\n",
       "      <td>2024-01-04</td>\n",
       "      <td>393.511178</td>\n",
       "      <td>396.637900</td>\n",
       "      <td>393.133980</td>\n",
       "      <td>393.352356</td>\n",
       "      <td>39432800</td>\n",
       "    </tr>\n",
       "    <tr>\n",
       "      <th>3</th>\n",
       "      <td>2024-01-05</td>\n",
       "      <td>393.521137</td>\n",
       "      <td>396.608147</td>\n",
       "      <td>392.419322</td>\n",
       "      <td>393.818909</td>\n",
       "      <td>44867900</td>\n",
       "    </tr>\n",
       "    <tr>\n",
       "      <th>4</th>\n",
       "      <td>2024-01-08</td>\n",
       "      <td>395.049740</td>\n",
       "      <td>402.246179</td>\n",
       "      <td>394.900855</td>\n",
       "      <td>401.958344</td>\n",
       "      <td>42473800</td>\n",
       "    </tr>\n",
       "  </tbody>\n",
       "</table>\n",
       "</div>"
      ],
      "text/plain": [
       "         Date        Open        High         Low       Close    Volume\n",
       "0  2024-01-02  402.841712  403.089865  397.283078  399.615723  58026900\n",
       "1  2024-01-03  396.975362  398.037464  394.950455  395.387177  47002800\n",
       "2  2024-01-04  393.511178  396.637900  393.133980  393.352356  39432800\n",
       "3  2024-01-05  393.521137  396.608147  392.419322  393.818909  44867900\n",
       "4  2024-01-08  395.049740  402.246179  394.900855  401.958344  42473800"
      ]
     },
     "metadata": {},
     "output_type": "display_data"
    }
   ],
   "source": [
    "# Rename columns (6 columns total)\n",
    "df.columns = [\"Date\", \"Close\", \"High\", \"Low\", \"Open\", \"Volume\"]\n",
    "\n",
    "# Reorder columns to standard format\n",
    "df = df[[\"Date\", \"Open\", \"High\", \"Low\", \"Close\", \"Volume\"]]\n",
    "\n",
    "# Display cleaned data\n",
    "print(\"\\nCleaned Data:\")\n",
    "display(df.head())"
   ]
  },
  {
   "cell_type": "code",
   "execution_count": 6,
   "id": "f4da5625-c34a-4eb7-bd13-1844e53caeeb",
   "metadata": {},
   "outputs": [
    {
     "name": "stdout",
     "output_type": "stream",
     "text": [
      "\n",
      "Final Data with Corrected Dates:\n"
     ]
    },
    {
     "data": {
      "text/html": [
       "<div>\n",
       "<style scoped>\n",
       "    .dataframe tbody tr th:only-of-type {\n",
       "        vertical-align: middle;\n",
       "    }\n",
       "\n",
       "    .dataframe tbody tr th {\n",
       "        vertical-align: top;\n",
       "    }\n",
       "\n",
       "    .dataframe thead th {\n",
       "        text-align: right;\n",
       "    }\n",
       "</style>\n",
       "<table border=\"1\" class=\"dataframe\">\n",
       "  <thead>\n",
       "    <tr style=\"text-align: right;\">\n",
       "      <th></th>\n",
       "      <th>Date</th>\n",
       "      <th>Open</th>\n",
       "      <th>High</th>\n",
       "      <th>Low</th>\n",
       "      <th>Close</th>\n",
       "      <th>Volume</th>\n",
       "    </tr>\n",
       "  </thead>\n",
       "  <tbody>\n",
       "    <tr>\n",
       "      <th>0</th>\n",
       "      <td>2024-01-02</td>\n",
       "      <td>402.841712</td>\n",
       "      <td>403.089865</td>\n",
       "      <td>397.283078</td>\n",
       "      <td>399.615723</td>\n",
       "      <td>58026900</td>\n",
       "    </tr>\n",
       "    <tr>\n",
       "      <th>1</th>\n",
       "      <td>2024-01-03</td>\n",
       "      <td>396.975362</td>\n",
       "      <td>398.037464</td>\n",
       "      <td>394.950455</td>\n",
       "      <td>395.387177</td>\n",
       "      <td>47002800</td>\n",
       "    </tr>\n",
       "    <tr>\n",
       "      <th>2</th>\n",
       "      <td>2024-01-04</td>\n",
       "      <td>393.511178</td>\n",
       "      <td>396.637900</td>\n",
       "      <td>393.133980</td>\n",
       "      <td>393.352356</td>\n",
       "      <td>39432800</td>\n",
       "    </tr>\n",
       "    <tr>\n",
       "      <th>3</th>\n",
       "      <td>2024-01-05</td>\n",
       "      <td>393.521137</td>\n",
       "      <td>396.608147</td>\n",
       "      <td>392.419322</td>\n",
       "      <td>393.818909</td>\n",
       "      <td>44867900</td>\n",
       "    </tr>\n",
       "    <tr>\n",
       "      <th>4</th>\n",
       "      <td>2024-01-08</td>\n",
       "      <td>395.049740</td>\n",
       "      <td>402.246179</td>\n",
       "      <td>394.900855</td>\n",
       "      <td>401.958344</td>\n",
       "      <td>42473800</td>\n",
       "    </tr>\n",
       "  </tbody>\n",
       "</table>\n",
       "</div>"
      ],
      "text/plain": [
       "        Date        Open        High         Low       Close    Volume\n",
       "0 2024-01-02  402.841712  403.089865  397.283078  399.615723  58026900\n",
       "1 2024-01-03  396.975362  398.037464  394.950455  395.387177  47002800\n",
       "2 2024-01-04  393.511178  396.637900  393.133980  393.352356  39432800\n",
       "3 2024-01-05  393.521137  396.608147  392.419322  393.818909  44867900\n",
       "4 2024-01-08  395.049740  402.246179  394.900855  401.958344  42473800"
      ]
     },
     "metadata": {},
     "output_type": "display_data"
    }
   ],
   "source": [
    "# Convert \"Date\" to datetime\n",
    "df[\"Date\"] = pd.to_datetime(df[\"Date\"], format=\"%Y/%m/%d\")  # Use format=\"%m/%d/%Y\" if dates are MM/DD/YYYY\n",
    "\n",
    "# Sort by date (oldest to newest)\n",
    "df = df.sort_values(\"Date\")\n",
    "\n",
    "# Display final data\n",
    "print(\"\\nFinal Data with Corrected Dates:\")\n",
    "display(df.head())"
   ]
  },
  {
   "cell_type": "code",
   "execution_count": 7,
   "id": "015a6e5e-1791-4f7a-abab-9f47df65fc44",
   "metadata": {},
   "outputs": [
    {
     "name": "stdout",
     "output_type": "stream",
     "text": [
      "Data saved to QQQ_Clean_Data.csv\n"
     ]
    }
   ],
   "source": [
    "df.to_csv(\"QQQ_Clean_Data.csv\", index=False)\n",
    "print(\"Data saved to QQQ_Clean_Data.csv\")"
   ]
  },
  {
   "cell_type": "code",
   "execution_count": null,
   "id": "25bf9675-7ab0-4950-967f-54452ab587ef",
   "metadata": {},
   "outputs": [],
   "source": []
  }
 ],
 "metadata": {
  "kernelspec": {
   "display_name": "Python 3 (ipykernel)",
   "language": "python",
   "name": "python3"
  },
  "language_info": {
   "codemirror_mode": {
    "name": "ipython",
    "version": 3
   },
   "file_extension": ".py",
   "mimetype": "text/x-python",
   "name": "python",
   "nbconvert_exporter": "python",
   "pygments_lexer": "ipython3",
   "version": "3.11.9"
  }
 },
 "nbformat": 4,
 "nbformat_minor": 5
}
