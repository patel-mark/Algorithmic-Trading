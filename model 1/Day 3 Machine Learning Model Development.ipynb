{
 "cells": [
  {
   "cell_type": "markdown",
   "id": "d9d730a2-c55b-4b30-bca0-e11bd68c563a",
   "metadata": {},
   "source": [
    "## Import Libraries"
   ]
  },
  {
   "cell_type": "code",
   "execution_count": 1,
   "id": "19e7f739-e28c-4fed-bae3-4492afbbae1c",
   "metadata": {},
   "outputs": [],
   "source": [
    "import pandas as pd\n",
    "import numpy as np\n",
    "from sklearn.model_selection import train_test_split, KFold, GridSearchCV\n",
    "from sklearn.metrics import accuracy_score, classification_report, confusion_matrix\n",
    "import xgboost as xgb\n",
    "import matplotlib.pyplot as plt\n",
    "import seaborn as sns\n",
    "\n",
    "# Set Seaborn style for plots\n",
    "sns.set_theme(style=\"whitegrid\", rc={\"axes.facecolor\": \"#f0f0f0\"})"
   ]
  },
  {
   "cell_type": "markdown",
   "id": "2bae8fb4-9d0e-41d3-b1ce-ab1c0eddb8db",
   "metadata": {},
   "source": [
    "## Load Preprocessed Data"
   ]
  },
  {
   "cell_type": "code",
   "execution_count": 2,
   "id": "77607cbc-f57e-4a26-b5ba-14b82cce9733",
   "metadata": {},
   "outputs": [
    {
     "name": "stdout",
     "output_type": "stream",
     "text": [
      "Engineered Data:\n"
     ]
    },
    {
     "data": {
      "text/html": [
       "<div>\n",
       "<style scoped>\n",
       "    .dataframe tbody tr th:only-of-type {\n",
       "        vertical-align: middle;\n",
       "    }\n",
       "\n",
       "    .dataframe tbody tr th {\n",
       "        vertical-align: top;\n",
       "    }\n",
       "\n",
       "    .dataframe thead th {\n",
       "        text-align: right;\n",
       "    }\n",
       "</style>\n",
       "<table border=\"1\" class=\"dataframe\">\n",
       "  <thead>\n",
       "    <tr style=\"text-align: right;\">\n",
       "      <th></th>\n",
       "      <th>Open</th>\n",
       "      <th>High</th>\n",
       "      <th>Low</th>\n",
       "      <th>Close</th>\n",
       "      <th>Volume</th>\n",
       "      <th>RSI_14</th>\n",
       "      <th>MACD</th>\n",
       "      <th>MACD_Signal</th>\n",
       "      <th>ATR_14</th>\n",
       "      <th>Bollinger_Upper</th>\n",
       "      <th>Bollinger_Middle</th>\n",
       "      <th>Bollinger_Lower</th>\n",
       "      <th>('VIXCLS', '^VIX')</th>\n",
       "    </tr>\n",
       "    <tr>\n",
       "      <th>Date</th>\n",
       "      <th></th>\n",
       "      <th></th>\n",
       "      <th></th>\n",
       "      <th></th>\n",
       "      <th></th>\n",
       "      <th></th>\n",
       "      <th></th>\n",
       "      <th></th>\n",
       "      <th></th>\n",
       "      <th></th>\n",
       "      <th></th>\n",
       "      <th></th>\n",
       "      <th></th>\n",
       "    </tr>\n",
       "  </thead>\n",
       "  <tbody>\n",
       "    <tr>\n",
       "      <th>2024-02-20</th>\n",
       "      <td>425.383949</td>\n",
       "      <td>426.902645</td>\n",
       "      <td>420.371270</td>\n",
       "      <td>424.163055</td>\n",
       "      <td>53999500</td>\n",
       "      <td>54.518382</td>\n",
       "      <td>6.720608</td>\n",
       "      <td>8.681570</td>\n",
       "      <td>5.369221</td>\n",
       "      <td>434.779814</td>\n",
       "      <td>425.243008</td>\n",
       "      <td>415.706203</td>\n",
       "      <td>15.42</td>\n",
       "    </tr>\n",
       "    <tr>\n",
       "      <th>2024-02-21</th>\n",
       "      <td>421.413501</td>\n",
       "      <td>422.555029</td>\n",
       "      <td>418.515091</td>\n",
       "      <td>422.465668</td>\n",
       "      <td>50179700</td>\n",
       "      <td>52.420478</td>\n",
       "      <td>5.866368</td>\n",
       "      <td>8.118530</td>\n",
       "      <td>5.389131</td>\n",
       "      <td>434.711579</td>\n",
       "      <td>425.348723</td>\n",
       "      <td>415.985867</td>\n",
       "      <td>15.34</td>\n",
       "    </tr>\n",
       "    <tr>\n",
       "      <th>2024-02-22</th>\n",
       "      <td>431.280080</td>\n",
       "      <td>435.875879</td>\n",
       "      <td>430.505844</td>\n",
       "      <td>434.833649</td>\n",
       "      <td>53887800</td>\n",
       "      <td>63.455379</td>\n",
       "      <td>6.116858</td>\n",
       "      <td>7.718196</td>\n",
       "      <td>5.962066</td>\n",
       "      <td>436.093244</td>\n",
       "      <td>425.956203</td>\n",
       "      <td>415.819161</td>\n",
       "      <td>14.54</td>\n",
       "    </tr>\n",
       "    <tr>\n",
       "      <th>2024-02-23</th>\n",
       "      <td>436.401985</td>\n",
       "      <td>437.335043</td>\n",
       "      <td>432.570516</td>\n",
       "      <td>433.553192</td>\n",
       "      <td>39853900</td>\n",
       "      <td>61.855894</td>\n",
       "      <td>6.141259</td>\n",
       "      <td>7.402808</td>\n",
       "      <td>5.876527</td>\n",
       "      <td>437.043219</td>\n",
       "      <td>426.473851</td>\n",
       "      <td>415.904483</td>\n",
       "      <td>13.75</td>\n",
       "    </tr>\n",
       "    <tr>\n",
       "      <th>2024-02-26</th>\n",
       "      <td>434.367121</td>\n",
       "      <td>435.359733</td>\n",
       "      <td>433.136261</td>\n",
       "      <td>433.324860</td>\n",
       "      <td>33043200</td>\n",
       "      <td>61.557917</td>\n",
       "      <td>6.072176</td>\n",
       "      <td>7.136682</td>\n",
       "      <td>5.615595</td>\n",
       "      <td>437.726102</td>\n",
       "      <td>427.106146</td>\n",
       "      <td>416.486191</td>\n",
       "      <td>13.74</td>\n",
       "    </tr>\n",
       "  </tbody>\n",
       "</table>\n",
       "</div>"
      ],
      "text/plain": [
       "                  Open        High         Low       Close    Volume  \\\n",
       "Date                                                                   \n",
       "2024-02-20  425.383949  426.902645  420.371270  424.163055  53999500   \n",
       "2024-02-21  421.413501  422.555029  418.515091  422.465668  50179700   \n",
       "2024-02-22  431.280080  435.875879  430.505844  434.833649  53887800   \n",
       "2024-02-23  436.401985  437.335043  432.570516  433.553192  39853900   \n",
       "2024-02-26  434.367121  435.359733  433.136261  433.324860  33043200   \n",
       "\n",
       "               RSI_14      MACD  MACD_Signal    ATR_14  Bollinger_Upper  \\\n",
       "Date                                                                      \n",
       "2024-02-20  54.518382  6.720608     8.681570  5.369221       434.779814   \n",
       "2024-02-21  52.420478  5.866368     8.118530  5.389131       434.711579   \n",
       "2024-02-22  63.455379  6.116858     7.718196  5.962066       436.093244   \n",
       "2024-02-23  61.855894  6.141259     7.402808  5.876527       437.043219   \n",
       "2024-02-26  61.557917  6.072176     7.136682  5.615595       437.726102   \n",
       "\n",
       "            Bollinger_Middle  Bollinger_Lower  ('VIXCLS', '^VIX')  \n",
       "Date                                                               \n",
       "2024-02-20        425.243008       415.706203               15.42  \n",
       "2024-02-21        425.348723       415.985867               15.34  \n",
       "2024-02-22        425.956203       415.819161               14.54  \n",
       "2024-02-23        426.473851       415.904483               13.75  \n",
       "2024-02-26        427.106146       416.486191               13.74  "
      ]
     },
     "metadata": {},
     "output_type": "display_data"
    }
   ],
   "source": [
    "# Load engineered data (from Day 2)\n",
    "df = pd.read_csv(\"QQQ_Engineered_Data.csv\", parse_dates=[\"Date\"], index_col=\"Date\")\n",
    "\n",
    "# Ensure chronological order\n",
    "df.sort_index(inplace=True)\n",
    "\n",
    "# Display first 5 rows\n",
    "print(\"Engineered Data:\")\n",
    "display(df.head())"
   ]
  },
  {
   "cell_type": "markdown",
   "id": "b905f294-8ef7-451a-9ca8-8c06035380bb",
   "metadata": {},
   "source": [
    "## Create Target Variable"
   ]
  },
  {
   "cell_type": "code",
   "execution_count": 3,
   "id": "dba2998c-fdf2-4a22-854f-9207aef6d4f0",
   "metadata": {},
   "outputs": [
    {
     "name": "stdout",
     "output_type": "stream",
     "text": [
      "\n",
      "Class Distribution:\n",
      "1    0.572993\n",
      "0    0.427007\n",
      "Name: Target, dtype: float64\n"
     ]
    }
   ],
   "source": [
    "# Target = 1 if next day's Close > today's Close, else 0\n",
    "df[\"Target\"] = (df[\"Close\"].shift(-1) > df[\"Close\"]).astype(int)\n",
    "df.dropna(subset=[\"Target\"], inplace=True)  # Drop last row with NaN\n",
    "\n",
    "# Separate features (X) and target (y)\n",
    "X = df.drop(\"Target\", axis=1)\n",
    "y = df[\"Target\"]\n",
    "\n",
    "print(\"\\nClass Distribution:\")\n",
    "print(y.value_counts(normalize=True))"
   ]
  },
  {
   "cell_type": "markdown",
   "id": "e4a3b17d-e070-484d-9988-068492c57daa",
   "metadata": {},
   "source": [
    "## Split Data into Training and Test Sets"
   ]
  },
  {
   "cell_type": "code",
   "execution_count": 4,
   "id": "ca129b6a-95ef-460d-b207-25bf4993e314",
   "metadata": {},
   "outputs": [
    {
     "name": "stdout",
     "output_type": "stream",
     "text": [
      "Training set size: 219\n",
      "Test set size: 55\n"
     ]
    }
   ],
   "source": [
    "# Time-series split (no shuffling)\n",
    "train_size = int(0.8 * len(X))\n",
    "X_train, X_test = X.iloc[:train_size], X.iloc[train_size:]\n",
    "y_train, y_test = y.iloc[:train_size], y.iloc[train_size:]\n",
    "\n",
    "print(f\"Training set size: {len(X_train)}\")\n",
    "print(f\"Test set size: {len(X_test)}\")"
   ]
  },
  {
   "cell_type": "markdown",
   "id": "db8a24df-9e94-4e76-8218-ccfc62f3869c",
   "metadata": {},
   "source": [
    "## Define XGBoost Model and Hyperparameter Grid"
   ]
  },
  {
   "cell_type": "code",
   "execution_count": 5,
   "id": "eaf2cb11-7216-412c-b8a2-d8fdda1bb7a3",
   "metadata": {},
   "outputs": [],
   "source": [
    "# Initialize XGBoost classifier\n",
    "model = xgb.XGBClassifier(\n",
    "    objective=\"binary:logistic\",\n",
    "    eval_metric=\"logloss\",\n",
    "    random_state=42,\n",
    "    n_jobs=-1\n",
    ")\n",
    "\n",
    "# Hyperparameter grid for tuning\n",
    "param_grid = {\n",
    "    \"max_depth\": [3, 5],            # Tree depth\n",
    "    \"learning_rate\": [0.01, 0.1],    # Step size shrinkage\n",
    "    \"n_estimators\": [100, 200],      # Number of trees\n",
    "    \"subsample\": [0.8, 1.0],         #% of samples per tree\n",
    "    \"colsample_bytree\": [0.8, 1.0]   #% of features per tree\n",
    "}"
   ]
  },
  {
   "cell_type": "markdown",
   "id": "e679129a-4363-4397-b45e-5ef1090e7b5c",
   "metadata": {},
   "source": [
    "## Perform Grid Search with K-Fold Cross-Validation"
   ]
  },
  {
   "cell_type": "code",
   "execution_count": 6,
   "id": "30ecc2ba-39c8-49c1-9869-7b768d792b24",
   "metadata": {},
   "outputs": [
    {
     "name": "stdout",
     "output_type": "stream",
     "text": [
      "Fitting 5 folds for each of 32 candidates, totalling 160 fits\n",
      "\n",
      "Best Parameters: {'colsample_bytree': 0.8, 'learning_rate': 0.01, 'max_depth': 3, 'n_estimators': 100, 'subsample': 1.0}\n"
     ]
    }
   ],
   "source": [
    "# K-Fold cross-validation (5 splits, no shuffling)\n",
    "kfold = KFold(n_splits=5, shuffle=False)\n",
    "\n",
    "# Grid search for best parameters\n",
    "grid_search = GridSearchCV(\n",
    "    estimator=model,\n",
    "    param_grid=param_grid,\n",
    "    scoring=\"accuracy\",\n",
    "    cv=kfold,\n",
    "    verbose=1,\n",
    "    n_jobs=-1\n",
    ")\n",
    "\n",
    "# Fit to training data\n",
    "grid_search.fit(X_train, y_train)\n",
    "\n",
    "# Get best model\n",
    "best_model = grid_search.best_estimator_\n",
    "print(f\"\\nBest Parameters: {grid_search.best_params_}\")"
   ]
  },
  {
   "cell_type": "markdown",
   "id": "ae10836d-05ec-4c48-a459-cc91510b6890",
   "metadata": {},
   "source": [
    "## Evaluate on Test Set"
   ]
  },
  {
   "cell_type": "code",
   "execution_count": 7,
   "id": "bd5f81cb-c813-4d5e-a3d5-1ddd84bf3794",
   "metadata": {},
   "outputs": [
    {
     "name": "stdout",
     "output_type": "stream",
     "text": [
      "\n",
      "Test Set Metrics:\n",
      "Accuracy: 0.4909\n",
      "Classification Report:\n",
      "               precision    recall  f1-score   support\n",
      "\n",
      "           0       0.47      0.65      0.55        26\n",
      "           1       0.53      0.34      0.42        29\n",
      "\n",
      "    accuracy                           0.49        55\n",
      "   macro avg       0.50      0.50      0.48        55\n",
      "weighted avg       0.50      0.49      0.48        55\n",
      "\n"
     ]
    },
    {
     "data": {
      "image/png": "[encoded data removed]",
      "text/plain": [
       "<Figure size 640x480 with 1 Axes>"
      ]
     },
     "metadata": {},
     "output_type": "display_data"
    }
   ],
   "source": [
    "# Predictions\n",
    "y_pred = best_model.predict(X_test)\n",
    "\n",
    "# Metrics\n",
    "print(\"\\nTest Set Metrics:\")\n",
    "print(f\"Accuracy: {accuracy_score(y_test, y_pred):.4f}\")\n",
    "print(\"Classification Report:\\n\", classification_report(y_test, y_pred))\n",
    "\n",
    "# Confusion matrix heatmap\n",
    "cm = confusion_matrix(y_test, y_pred)\n",
    "sns.heatmap(cm, annot=True, fmt=\"d\", cmap=\"Blues\", cbar=False)\n",
    "plt.xlabel(\"Predicted\")\n",
    "plt.ylabel(\"Actual\")\n",
    "plt.title(\"Confusion Matrix\")\n",
    "plt.show()"
   ]
  },
  {
   "cell_type": "markdown",
   "id": "41c6d595-6359-46b0-8f76-6d49f5d6c8f3",
   "metadata": {},
   "source": [
    "## Feature Importance"
   ]
  },
  {
   "cell_type": "code",
   "execution_count": 8,
   "id": "bc362923-86b9-4190-a7d8-233822ed1c10",
   "metadata": {},
   "outputs": [
    {
     "data": {
      "image/png": "[encoded data removed]",
      "text/plain": [
       "<Figure size 640x480 with 1 Axes>"
      ]
     },
     "metadata": {},
     "output_type": "display_data"
    }
   ],
   "source": [
    "# Plot feature importance\n",
    "xgb.plot_importance(best_model, max_num_features=10, height=0.5)\n",
    "plt.title(\"Top 10 Feature Importance\")\n",
    "plt.show()"
   ]
  },
  {
   "cell_type": "markdown",
   "id": "ceca9cab-b1bb-417e-894e-004618fe8f0f",
   "metadata": {},
   "source": [
    "## Save the Trained Model"
   ]
  },
  {
   "cell_type": "code",
   "execution_count": 9,
   "id": "417b2954-2a42-4f23-ba38-cf835920fa47",
   "metadata": {},
   "outputs": [
    {
     "name": "stdout",
     "output_type": "stream",
     "text": [
      "Model saved as 'best_xgboost_model.pkl'\n"
     ]
    }
   ],
   "source": [
    "import joblib\n",
    "\n",
    "# Save the best model and parameters\n",
    "joblib.dump(best_model, \"best_xgboost_model.pkl\")\n",
    "print(\"Model saved as 'best_xgboost_model.pkl'\")\n",
    "\n",
    "# Optionally, save the entire GridSearchCV object (includes best model + parameters)\n",
    "#joblib.dump(grid_search, \"xgboost_grid_search.pkl\")"
   ]
  },
  {
   "cell_type": "markdown",
   "id": "6a9e0581-ec28-40d4-a13f-c462374058b8",
   "metadata": {},
   "source": [
    "## How to Load the Model in Day 4"
   ]
  },
  {
   "cell_type": "code",
   "execution_count": 10,
   "id": "06c4ab2f-0ff4-4fa1-a11d-6abb6e5fbbbf",
   "metadata": {},
   "outputs": [],
   "source": [
    "# In Day 4 Notebook:\n",
    "#import joblib\n",
    "\n",
    "# Load the saved model\n",
    "#best_model = joblib.load(\"best_xgboost_model.pkl\")"
   ]
  },
  {
   "cell_type": "code",
   "execution_count": null,
   "id": "aeb96f99-46e3-4be5-9000-daebd0306b7d",
   "metadata": {},
   "outputs": [],
   "source": []
  }
 ],
 "metadata": {
  "kernelspec": {
   "display_name": "Python 3 (ipykernel)",
   "language": "python",
   "name": "python3"
  },
  "language_info": {
   "codemirror_mode": {
    "name": "ipython",
    "version": 3
   },
   "file_extension": ".py",
   "mimetype": "text/x-python",
   "name": "python",
   "nbconvert_exporter": "python",
   "pygments_lexer": "ipython3",
   "version": "3.11.9"
  }
 },
 "nbformat": 4,
 "nbformat_minor": 5
}
