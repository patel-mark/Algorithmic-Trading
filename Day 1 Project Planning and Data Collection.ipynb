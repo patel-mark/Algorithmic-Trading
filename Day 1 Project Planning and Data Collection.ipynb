{
 "cells": [
  {
   "cell_type": "markdown",
   "id": "cfa383a8-f707-4cf6-8916-d49cab9c2c71",
   "metadata": {},
   "source": [
    "## Install Required Libraries"
   ]
  },
  {
   "cell_type": "code",
   "execution_count": 1,
   "id": "1e09a92f-9477-4566-a1c5-cee87c49a793",
   "metadata": {},
   "outputs": [],
   "source": [
    "#!pip install yfinance pandas"
   ]
  },
  {
   "cell_type": "markdown",
   "id": "4ea54117-c378-4560-a7a9-877b31d0a13d",
   "metadata": {},
   "source": [
    "## Import Libraries"
   ]
  },
  {
   "cell_type": "code",
   "execution_count": 3,
   "id": "5829e6a1-cd92-4a0c-93ef-ea970b531d31",
   "metadata": {},
   "outputs": [],
   "source": [
    "import yfinance as yf\n",
    "import pandas as pd\n",
    "import matplotlib.pyplot as plt"
   ]
  },
  {
   "cell_type": "markdown",
   "id": "9e26b9c6-e13f-410d-b0a6-7c21c95554eb",
   "metadata": {},
   "source": [
    "## Define the Strategy"
   ]
  },
  {
   "cell_type": "markdown",
   "id": "839c7119-244e-422a-a168-0a92c1b90baa",
   "metadata": {},
   "source": [
    "Objective: Predict whether SMH’s price will increase (1) or decrease (0) the next day.\n",
    "Data Range: January 1, 2010, to March 26, 2025.\n",
    "Adjustments: Ensure yfinance accounts for SMH’s 2-for-1 stock split in May 2023."
   ]
  },
  {
   "cell_type": "markdown",
   "id": "94ebdbac-7940-4317-b530-08c710d0635c",
   "metadata": {},
   "source": [
    "## Fetch SMH Historical Data"
   ]
  },
  {
   "cell_type": "code",
   "execution_count": 4,
   "id": "049714db-53b2-4a66-ac06-fbb10a2dd2e8",
   "metadata": {},
   "outputs": [
    {
     "name": "stdout",
     "output_type": "stream",
     "text": [
      "YF.download() has changed argument auto_adjust default to True\n"
     ]
    },
    {
     "data": {
      "text/html": [
       "<div>\n",
       "<style scoped>\n",
       "    .dataframe tbody tr th:only-of-type {\n",
       "        vertical-align: middle;\n",
       "    }\n",
       "\n",
       "    .dataframe tbody tr th {\n",
       "        vertical-align: top;\n",
       "    }\n",
       "\n",
       "    .dataframe thead tr th {\n",
       "        text-align: left;\n",
       "    }\n",
       "\n",
       "    .dataframe thead tr:last-of-type th {\n",
       "        text-align: right;\n",
       "    }\n",
       "</style>\n",
       "<table border=\"1\" class=\"dataframe\">\n",
       "  <thead>\n",
       "    <tr>\n",
       "      <th>Price</th>\n",
       "      <th>Close</th>\n",
       "      <th>High</th>\n",
       "      <th>Low</th>\n",
       "      <th>Open</th>\n",
       "      <th>Volume</th>\n",
       "    </tr>\n",
       "    <tr>\n",
       "      <th>Ticker</th>\n",
       "      <th>SMH</th>\n",
       "      <th>SMH</th>\n",
       "      <th>SMH</th>\n",
       "      <th>SMH</th>\n",
       "      <th>SMH</th>\n",
       "    </tr>\n",
       "    <tr>\n",
       "      <th>Date</th>\n",
       "      <th></th>\n",
       "      <th></th>\n",
       "      <th></th>\n",
       "      <th></th>\n",
       "      <th></th>\n",
       "    </tr>\n",
       "  </thead>\n",
       "  <tbody>\n",
       "    <tr>\n",
       "      <th>2010-01-04</th>\n",
       "      <td>12.099959</td>\n",
       "      <td>12.206436</td>\n",
       "      <td>12.053110</td>\n",
       "      <td>12.074405</td>\n",
       "      <td>18905400</td>\n",
       "    </tr>\n",
       "    <tr>\n",
       "      <th>2010-01-05</th>\n",
       "      <td>12.031816</td>\n",
       "      <td>12.155328</td>\n",
       "      <td>11.959412</td>\n",
       "      <td>12.116997</td>\n",
       "      <td>29157800</td>\n",
       "    </tr>\n",
       "    <tr>\n",
       "      <th>2010-01-06</th>\n",
       "      <td>12.002001</td>\n",
       "      <td>12.116995</td>\n",
       "      <td>11.959410</td>\n",
       "      <td>12.014777</td>\n",
       "      <td>21329000</td>\n",
       "    </tr>\n",
       "    <tr>\n",
       "      <th>2010-01-07</th>\n",
       "      <td>11.908303</td>\n",
       "      <td>11.993485</td>\n",
       "      <td>11.823123</td>\n",
       "      <td>11.963671</td>\n",
       "      <td>28677800</td>\n",
       "    </tr>\n",
       "    <tr>\n",
       "      <th>2010-01-08</th>\n",
       "      <td>12.146811</td>\n",
       "      <td>12.159587</td>\n",
       "      <td>11.869972</td>\n",
       "      <td>11.899786</td>\n",
       "      <td>41759000</td>\n",
       "    </tr>\n",
       "  </tbody>\n",
       "</table>\n",
       "</div>"
      ],
      "text/plain": [
       "Price           Close       High        Low       Open    Volume\n",
       "Ticker            SMH        SMH        SMH        SMH       SMH\n",
       "Date                                                            \n",
       "2010-01-04  12.099959  12.206436  12.053110  12.074405  18905400\n",
       "2010-01-05  12.031816  12.155328  11.959412  12.116997  29157800\n",
       "2010-01-06  12.002001  12.116995  11.959410  12.014777  21329000\n",
       "2010-01-07  11.908303  11.993485  11.823123  11.963671  28677800\n",
       "2010-01-08  12.146811  12.159587  11.869972  11.899786  41759000"
      ]
     },
     "execution_count": 4,
     "metadata": {},
     "output_type": "execute_result"
    }
   ],
   "source": [
    "# Define SMH ticker and date range\n",
    "ticker = \"SMH\"\n",
    "start_date = \"2010-01-01\"\n",
    "end_date = \"2025-03-26\"\n",
    "\n",
    "# Fetch historical data with splits/dividends adjusted\n",
    "smh_data = yf.download(\n",
    "    ticker,\n",
    "    start=start_date,\n",
    "    end=end_date,\n",
    "    progress=False  # Disable progress bar for cleaner output\n",
    ")\n",
    "\n",
    "# Save raw data to CSV (for reference)\n",
    "smh_data.to_csv(\"SMH_Raw_Data.csv\")\n",
    "\n",
    "# Display first 5 rows\n",
    "smh_data.head()"
   ]
  },
  {
   "cell_type": "code",
   "execution_count": 8,
   "id": "fc822905-220a-4fc6-9129-a63458c2f030",
   "metadata": {},
   "outputs": [
    {
     "name": "stdout",
     "output_type": "stream",
     "text": [
      "Raw Data:\n"
     ]
    },
    {
     "data": {
      "text/html": [
       "<div>\n",
       "<style scoped>\n",
       "    .dataframe tbody tr th:only-of-type {\n",
       "        vertical-align: middle;\n",
       "    }\n",
       "\n",
       "    .dataframe tbody tr th {\n",
       "        vertical-align: top;\n",
       "    }\n",
       "\n",
       "    .dataframe thead th {\n",
       "        text-align: right;\n",
       "    }\n",
       "</style>\n",
       "<table border=\"1\" class=\"dataframe\">\n",
       "  <thead>\n",
       "    <tr style=\"text-align: right;\">\n",
       "      <th></th>\n",
       "      <th>Date</th>\n",
       "      <th>Unnamed: 1</th>\n",
       "      <th>Unnamed: 2</th>\n",
       "      <th>Unnamed: 3</th>\n",
       "      <th>Unnamed: 4</th>\n",
       "      <th>Unnamed: 5</th>\n",
       "    </tr>\n",
       "  </thead>\n",
       "  <tbody>\n",
       "    <tr>\n",
       "      <th>0</th>\n",
       "      <td>2010-01-04</td>\n",
       "      <td>12.099959</td>\n",
       "      <td>12.206436</td>\n",
       "      <td>12.053110</td>\n",
       "      <td>12.074405</td>\n",
       "      <td>18905400</td>\n",
       "    </tr>\n",
       "    <tr>\n",
       "      <th>1</th>\n",
       "      <td>2010-01-05</td>\n",
       "      <td>12.031816</td>\n",
       "      <td>12.155328</td>\n",
       "      <td>11.959412</td>\n",
       "      <td>12.116997</td>\n",
       "      <td>29157800</td>\n",
       "    </tr>\n",
       "    <tr>\n",
       "      <th>2</th>\n",
       "      <td>2010-01-06</td>\n",
       "      <td>12.002001</td>\n",
       "      <td>12.116995</td>\n",
       "      <td>11.959410</td>\n",
       "      <td>12.014777</td>\n",
       "      <td>21329000</td>\n",
       "    </tr>\n",
       "    <tr>\n",
       "      <th>3</th>\n",
       "      <td>2010-01-07</td>\n",
       "      <td>11.908303</td>\n",
       "      <td>11.993485</td>\n",
       "      <td>11.823123</td>\n",
       "      <td>11.963671</td>\n",
       "      <td>28677800</td>\n",
       "    </tr>\n",
       "    <tr>\n",
       "      <th>4</th>\n",
       "      <td>2010-01-08</td>\n",
       "      <td>12.146811</td>\n",
       "      <td>12.159587</td>\n",
       "      <td>11.869972</td>\n",
       "      <td>11.899786</td>\n",
       "      <td>41759000</td>\n",
       "    </tr>\n",
       "  </tbody>\n",
       "</table>\n",
       "</div>"
      ],
      "text/plain": [
       "         Date  Unnamed: 1  Unnamed: 2  Unnamed: 3  Unnamed: 4  Unnamed: 5\n",
       "0  2010-01-04   12.099959   12.206436   12.053110   12.074405    18905400\n",
       "1  2010-01-05   12.031816   12.155328   11.959412   12.116997    29157800\n",
       "2  2010-01-06   12.002001   12.116995   11.959410   12.014777    21329000\n",
       "3  2010-01-07   11.908303   11.993485   11.823123   11.963671    28677800\n",
       "4  2010-01-08   12.146811   12.159587   11.869972   11.899786    41759000"
      ]
     },
     "metadata": {},
     "output_type": "display_data"
    }
   ],
   "source": [
    "# Load data, skip initial rows if headers are misaligned\n",
    "df = pd.read_csv(\"SMH_Raw_Data.csv\", skiprows=2)  # Adjust skiprows based on your file\n",
    "\n",
    "# Display raw data\n",
    "print(\"Raw Data:\")\n",
    "display(df.head())"
   ]
  },
  {
   "cell_type": "code",
   "execution_count": 10,
   "id": "74149e2b-a9ce-485e-82d4-849c9ceae4f3",
   "metadata": {},
   "outputs": [
    {
     "name": "stdout",
     "output_type": "stream",
     "text": [
      "\n",
      "Cleaned Data:\n"
     ]
    },
    {
     "data": {
      "text/html": [
       "<div>\n",
       "<style scoped>\n",
       "    .dataframe tbody tr th:only-of-type {\n",
       "        vertical-align: middle;\n",
       "    }\n",
       "\n",
       "    .dataframe tbody tr th {\n",
       "        vertical-align: top;\n",
       "    }\n",
       "\n",
       "    .dataframe thead th {\n",
       "        text-align: right;\n",
       "    }\n",
       "</style>\n",
       "<table border=\"1\" class=\"dataframe\">\n",
       "  <thead>\n",
       "    <tr style=\"text-align: right;\">\n",
       "      <th></th>\n",
       "      <th>Date</th>\n",
       "      <th>Open</th>\n",
       "      <th>High</th>\n",
       "      <th>Low</th>\n",
       "      <th>Close</th>\n",
       "      <th>Volume</th>\n",
       "    </tr>\n",
       "  </thead>\n",
       "  <tbody>\n",
       "    <tr>\n",
       "      <th>0</th>\n",
       "      <td>2010-01-04</td>\n",
       "      <td>12.074405</td>\n",
       "      <td>12.206436</td>\n",
       "      <td>12.053110</td>\n",
       "      <td>12.099959</td>\n",
       "      <td>18905400</td>\n",
       "    </tr>\n",
       "    <tr>\n",
       "      <th>1</th>\n",
       "      <td>2010-01-05</td>\n",
       "      <td>12.116997</td>\n",
       "      <td>12.155328</td>\n",
       "      <td>11.959412</td>\n",
       "      <td>12.031816</td>\n",
       "      <td>29157800</td>\n",
       "    </tr>\n",
       "    <tr>\n",
       "      <th>2</th>\n",
       "      <td>2010-01-06</td>\n",
       "      <td>12.014777</td>\n",
       "      <td>12.116995</td>\n",
       "      <td>11.959410</td>\n",
       "      <td>12.002001</td>\n",
       "      <td>21329000</td>\n",
       "    </tr>\n",
       "    <tr>\n",
       "      <th>3</th>\n",
       "      <td>2010-01-07</td>\n",
       "      <td>11.963671</td>\n",
       "      <td>11.993485</td>\n",
       "      <td>11.823123</td>\n",
       "      <td>11.908303</td>\n",
       "      <td>28677800</td>\n",
       "    </tr>\n",
       "    <tr>\n",
       "      <th>4</th>\n",
       "      <td>2010-01-08</td>\n",
       "      <td>11.899786</td>\n",
       "      <td>12.159587</td>\n",
       "      <td>11.869972</td>\n",
       "      <td>12.146811</td>\n",
       "      <td>41759000</td>\n",
       "    </tr>\n",
       "  </tbody>\n",
       "</table>\n",
       "</div>"
      ],
      "text/plain": [
       "         Date       Open       High        Low      Close    Volume\n",
       "0  2010-01-04  12.074405  12.206436  12.053110  12.099959  18905400\n",
       "1  2010-01-05  12.116997  12.155328  11.959412  12.031816  29157800\n",
       "2  2010-01-06  12.014777  12.116995  11.959410  12.002001  21329000\n",
       "3  2010-01-07  11.963671  11.993485  11.823123  11.908303  28677800\n",
       "4  2010-01-08  11.899786  12.159587  11.869972  12.146811  41759000"
      ]
     },
     "metadata": {},
     "output_type": "display_data"
    }
   ],
   "source": [
    "# Rename columns (6 columns total)\n",
    "df.columns = [\"Date\", \"Close\", \"High\", \"Low\", \"Open\", \"Volume\"]\n",
    "\n",
    "# Reorder columns to standard format\n",
    "df = df[[\"Date\", \"Open\", \"High\", \"Low\", \"Close\", \"Volume\"]]\n",
    "\n",
    "# Display cleaned data\n",
    "print(\"\\nCleaned Data:\")\n",
    "display(df.head())"
   ]
  },
  {
   "cell_type": "code",
   "execution_count": 12,
   "id": "f4da5625-c34a-4eb7-bd13-1844e53caeeb",
   "metadata": {},
   "outputs": [
    {
     "name": "stdout",
     "output_type": "stream",
     "text": [
      "\n",
      "Final Data with Corrected Dates:\n"
     ]
    },
    {
     "data": {
      "text/html": [
       "<div>\n",
       "<style scoped>\n",
       "    .dataframe tbody tr th:only-of-type {\n",
       "        vertical-align: middle;\n",
       "    }\n",
       "\n",
       "    .dataframe tbody tr th {\n",
       "        vertical-align: top;\n",
       "    }\n",
       "\n",
       "    .dataframe thead th {\n",
       "        text-align: right;\n",
       "    }\n",
       "</style>\n",
       "<table border=\"1\" class=\"dataframe\">\n",
       "  <thead>\n",
       "    <tr style=\"text-align: right;\">\n",
       "      <th></th>\n",
       "      <th>Date</th>\n",
       "      <th>Open</th>\n",
       "      <th>High</th>\n",
       "      <th>Low</th>\n",
       "      <th>Close</th>\n",
       "      <th>Volume</th>\n",
       "    </tr>\n",
       "  </thead>\n",
       "  <tbody>\n",
       "    <tr>\n",
       "      <th>0</th>\n",
       "      <td>2010-01-04</td>\n",
       "      <td>12.074405</td>\n",
       "      <td>12.206436</td>\n",
       "      <td>12.053110</td>\n",
       "      <td>12.099959</td>\n",
       "      <td>18905400</td>\n",
       "    </tr>\n",
       "    <tr>\n",
       "      <th>1</th>\n",
       "      <td>2010-01-05</td>\n",
       "      <td>12.116997</td>\n",
       "      <td>12.155328</td>\n",
       "      <td>11.959412</td>\n",
       "      <td>12.031816</td>\n",
       "      <td>29157800</td>\n",
       "    </tr>\n",
       "    <tr>\n",
       "      <th>2</th>\n",
       "      <td>2010-01-06</td>\n",
       "      <td>12.014777</td>\n",
       "      <td>12.116995</td>\n",
       "      <td>11.959410</td>\n",
       "      <td>12.002001</td>\n",
       "      <td>21329000</td>\n",
       "    </tr>\n",
       "    <tr>\n",
       "      <th>3</th>\n",
       "      <td>2010-01-07</td>\n",
       "      <td>11.963671</td>\n",
       "      <td>11.993485</td>\n",
       "      <td>11.823123</td>\n",
       "      <td>11.908303</td>\n",
       "      <td>28677800</td>\n",
       "    </tr>\n",
       "    <tr>\n",
       "      <th>4</th>\n",
       "      <td>2010-01-08</td>\n",
       "      <td>11.899786</td>\n",
       "      <td>12.159587</td>\n",
       "      <td>11.869972</td>\n",
       "      <td>12.146811</td>\n",
       "      <td>41759000</td>\n",
       "    </tr>\n",
       "  </tbody>\n",
       "</table>\n",
       "</div>"
      ],
      "text/plain": [
       "        Date       Open       High        Low      Close    Volume\n",
       "0 2010-01-04  12.074405  12.206436  12.053110  12.099959  18905400\n",
       "1 2010-01-05  12.116997  12.155328  11.959412  12.031816  29157800\n",
       "2 2010-01-06  12.014777  12.116995  11.959410  12.002001  21329000\n",
       "3 2010-01-07  11.963671  11.993485  11.823123  11.908303  28677800\n",
       "4 2010-01-08  11.899786  12.159587  11.869972  12.146811  41759000"
      ]
     },
     "metadata": {},
     "output_type": "display_data"
    }
   ],
   "source": [
    "# Convert \"Date\" to datetime\n",
    "df[\"Date\"] = pd.to_datetime(df[\"Date\"], format=\"%Y/%m/%d\")  # Use format=\"%m/%d/%Y\" if dates are MM/DD/YYYY\n",
    "\n",
    "# Sort by date (oldest to newest)\n",
    "df = df.sort_values(\"Date\")\n",
    "\n",
    "# Display final data\n",
    "print(\"\\nFinal Data with Corrected Dates:\")\n",
    "display(df.head())"
   ]
  },
  {
   "cell_type": "code",
   "execution_count": 13,
   "id": "015a6e5e-1791-4f7a-abab-9f47df65fc44",
   "metadata": {},
   "outputs": [
    {
     "name": "stdout",
     "output_type": "stream",
     "text": [
      "Data saved to SMH_Clean_Data.csv\n"
     ]
    }
   ],
   "source": [
    "df.to_csv(\"SMH_Clean_Data.csv\", index=False)\n",
    "print(\"Data saved to SMH_Clean_Data.csv\")"
   ]
  },
  {
   "cell_type": "markdown",
   "id": "9e0ed86d-f023-437f-a682-b76d36ea5380",
   "metadata": {},
   "source": [
    "##  Validate Stock Split Adjustment\n",
    "Check if the May 2023 stock split is reflected in the data.\n",
    "The split-adjusted closing price should be halved after May 5, 2023:"
   ]
  },
  {
   "cell_type": "code",
   "execution_count": null,
   "id": "25bf9675-7ab0-4950-967f-54452ab587ef",
   "metadata": {},
   "outputs": [],
   "source": []
  }
 ],
 "metadata": {
  "kernelspec": {
   "display_name": "Python 3 (ipykernel)",
   "language": "python",
   "name": "python3"
  },
  "language_info": {
   "codemirror_mode": {
    "name": "ipython",
    "version": 3
   },
   "file_extension": ".py",
   "mimetype": "text/x-python",
   "name": "python",
   "nbconvert_exporter": "python",
   "pygments_lexer": "ipython3",
   "version": "3.11.9"
  }
 },
 "nbformat": 4,
 "nbformat_minor": 5
}
